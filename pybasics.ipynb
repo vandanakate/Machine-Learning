{
  "nbformat": 4,
  "nbformat_minor": 0,
  "metadata": {
    "kernelspec": {
      "name": "python3",
      "display_name": "Python 3",
      "language": "python"
    },
    "language_info": {
      "mimetype": "text/x-python",
      "nbconvert_exporter": "python",
      "name": "python",
      "pygments_lexer": "ipython3",
      "version": "3.5.4",
      "file_extension": ".py",
      "codemirror_mode": {
        "version": 3,
        "name": "ipython"
      }
    },
    "colab": {
      "name": "pybasics.ipynb",
      "provenance": [],
      "collapsed_sections": [],
      "toc_visible": true,
      "include_colab_link": true
    }
  },
  "cells": [
    {
      "cell_type": "markdown",
      "metadata": {
        "id": "view-in-github",
        "colab_type": "text"
      },
      "source": [
        "<a href=\"https://colab.research.google.com/github/vandanakate/Machine-Learning/blob/master/pybasics.ipynb\" target=\"_parent\"><img src=\"https://colab.research.google.com/assets/colab-badge.svg\" alt=\"Open In Colab\"/></a>"
      ]
    },
    {
      "cell_type": "markdown",
      "metadata": {
        "heading_collapsed": true,
        "id": "n_VDg1RwuChB",
        "colab_type": "text"
      },
      "source": [
        "# Expressions, Operators, Control statements"
      ]
    },
    {
      "cell_type": "code",
      "metadata": {
        "id": "DV0ZL6dIJIuA",
        "colab_type": "code",
        "colab": {}
      },
      "source": [
        ""
      ],
      "execution_count": 0,
      "outputs": []
    },
    {
      "cell_type": "code",
      "metadata": {
        "id": "Rc6gK_TEv2QF",
        "colab_type": "code",
        "colab": {}
      },
      "source": [
        ""
      ],
      "execution_count": 0,
      "outputs": []
    },
    {
      "cell_type": "markdown",
      "metadata": {
        "id": "6Cw_bQCzuChF",
        "colab_type": "text"
      },
      "source": [
        "# Operators\n",
        "- Arithmetic (+, -, *, /, //, %)\n",
        "- Relational (<, >, <=, >=, !=, ==)\n",
        "- Shift (>>, <<)\n",
        "- Assignment (=)\n",
        "- Logical (and, or, not)\n",
        "- Bitwise (&, |, !)\n",
        "- 'in' and 'not in' operator\n"
      ]
    },
    {
      "cell_type": "markdown",
      "metadata": {
        "id": "FEu90oEtuChG",
        "colab_type": "raw"
      },
      "source": [
        "# << and >>\n",
        "\n",
        "if n=8 (1000 in binary), n>>1 will give 100 after shifting bits by 1 place to right. \n",
        "                         n<<1 will give 10000 after shifting bits by 1 place to left."
      ]
    },
    {
      "cell_type": "code",
      "metadata": {
        "trusted": false,
        "id": "7v33-5nguChI",
        "colab_type": "code",
        "outputId": "05241034-8171-437e-d437-b465eadff65e",
        "colab": {
          "base_uri": "https://localhost:8080/",
          "height": 68
        }
      },
      "source": [
        "n=20\n",
        "print(n,'binary',format(n,'b'))\n",
        "print(n,'* 2=',n<<1, format(n<<1,'b'))\n",
        "print(n,'/ 2=',n>>1,format(n>>1,'b'))"
      ],
      "execution_count": 0,
      "outputs": [
        {
          "output_type": "stream",
          "text": [
            "20 binary 10100\n",
            "20 * 2= 40 101000\n",
            "20 / 2= 10 1010\n"
          ],
          "name": "stdout"
        }
      ]
    },
    {
      "cell_type": "code",
      "metadata": {
        "trusted": false,
        "id": "2QV1wgNYuChQ",
        "colab_type": "code",
        "outputId": "cb191be0-dbe7-40b3-c17f-cf2bcc758889",
        "colab": {
          "base_uri": "https://localhost:8080/",
          "height": 68
        }
      },
      "source": [
        "# logical\n",
        "x = True\n",
        "y = False\n",
        "print('x and y is',x and y) # Output: x and y is False\n",
        "print('x or y is',x or y) # Output: x or y is True\n",
        "print('not x is',not x) # Output: not x is False"
      ],
      "execution_count": 0,
      "outputs": [
        {
          "output_type": "stream",
          "text": [
            "x and y is False\n",
            "x or y is True\n",
            "not x is False\n"
          ],
          "name": "stdout"
        }
      ]
    },
    {
      "cell_type": "code",
      "metadata": {
        "trusted": false,
        "id": "Az6UaXmPuChV",
        "colab_type": "code",
        "outputId": "5f31c1e6-9c58-4c75-ffe1-2cc534ab8f7b",
        "colab": {
          "base_uri": "https://localhost:8080/",
          "height": 68
        }
      },
      "source": [
        "# bitwise\n",
        "x=10 \n",
        "y=4\n",
        "print(x & y) \n",
        "print(x | y)\n",
        "print(x ^ y)"
      ],
      "execution_count": 0,
      "outputs": [
        {
          "output_type": "stream",
          "text": [
            "0\n",
            "14\n",
            "14\n"
          ],
          "name": "stdout"
        }
      ]
    },
    {
      "cell_type": "code",
      "metadata": {
        "trusted": false,
        "id": "fHdeM7hKuCha",
        "colab_type": "code",
        "outputId": "86e6a98f-8e47-4253-fd34-6507f553c6f4",
        "colab": {
          "base_uri": "https://localhost:8080/",
          "height": 51
        }
      },
      "source": [
        "# in and not in\n",
        "\n",
        "x = 'Hello world'\n",
        "print('j' in x)    # Output: True\n",
        "print('h' not in x)   # Output: True"
      ],
      "execution_count": 0,
      "outputs": [
        {
          "output_type": "stream",
          "text": [
            "False\n",
            "True\n"
          ],
          "name": "stdout"
        }
      ]
    },
    {
      "cell_type": "code",
      "metadata": {
        "trusted": false,
        "id": "SD083I1euChe",
        "colab_type": "code",
        "outputId": "44b713ba-0b1a-4e11-cd78-2c78d387a7ab",
        "colab": {
          "base_uri": "https://localhost:8080/",
          "height": 85
        }
      },
      "source": [
        "# perform operations on cs\n",
        "\n",
        "import cmath\n",
        "a=complex(20+7j)\n",
        "b=complex(5+3j)\n",
        "print('a+b',a+b)\n",
        "print('a-b',a-b)\n",
        "print('a*b',a*b)\n",
        "print('a/b',a/b)"
      ],
      "execution_count": 0,
      "outputs": [
        {
          "output_type": "stream",
          "text": [
            "a+b (25+10j)\n",
            "a-b (15+4j)\n",
            "a*b (79+95j)\n",
            "a/b (3.5588235294117645-0.7352941176470589j)\n"
          ],
          "name": "stdout"
        }
      ]
    },
    {
      "cell_type": "code",
      "metadata": {
        "id": "vvnJBOLewPRn",
        "colab_type": "code",
        "colab": {}
      },
      "source": [
        ""
      ],
      "execution_count": 0,
      "outputs": []
    },
    {
      "cell_type": "markdown",
      "metadata": {
        "id": "Ks4llkCxuChj",
        "colab_type": "text"
      },
      "source": [
        "### Task1 Write a program in python to calculate area of triangle when all three sides are given.\n",
        "- s=(a+b+c)/2\n",
        "- area =  √(s(s-a)(s-b)(s-c) )"
      ]
    },
    {
      "cell_type": "code",
      "metadata": {
        "trusted": false,
        "id": "WulnhHhpuChl",
        "colab_type": "code",
        "colab": {}
      },
      "source": [
        ""
      ],
      "execution_count": 0,
      "outputs": []
    },
    {
      "cell_type": "code",
      "metadata": {
        "id": "z3UL2soB0D3l",
        "colab_type": "code",
        "outputId": "247318e8-e0ee-48d7-df46-340a54168f27",
        "colab": {
          "base_uri": "https://localhost:8080/",
          "height": 85
        }
      },
      "source": [
        "a = float(input('Enter first side: '))\n",
        "b = float(input('Enter second side: '))\n",
        "c = float(input('Enter third side: '))\n",
        "s = (a + b + c) / 2\n",
        "area = (s*(s-a)*(s-b)*(s-c))*0.5\n",
        "print('The area of the triangle is %0.2f' %area)"
      ],
      "execution_count": 0,
      "outputs": [
        {
          "output_type": "stream",
          "text": [
            "Enter first side: 5\n",
            "Enter second side: 5\n",
            "Enter third side: 8\n",
            "The area of the triangle is 72.00\n"
          ],
          "name": "stdout"
        }
      ]
    },
    {
      "cell_type": "markdown",
      "metadata": {
        "id": "J-WVeW51uChr",
        "colab_type": "text"
      },
      "source": [
        "# Control Statements"
      ]
    },
    {
      "cell_type": "markdown",
      "metadata": {
        "id": "OsmF1j5wuChs",
        "colab_type": "text"
      },
      "source": [
        "### Decisions (if-else)"
      ]
    },
    {
      "cell_type": "markdown",
      "metadata": {
        "id": "f48xY3pmuChu",
        "colab_type": "raw"
      },
      "source": [
        "# simple if-else\n",
        "if(cond):\n",
        "    stmt\n",
        "else:\n",
        "    stmt"
      ]
    },
    {
      "cell_type": "markdown",
      "metadata": {
        "id": "fL6cU4vTuChv",
        "colab_type": "raw"
      },
      "source": [
        "# if-else-if\n",
        "if(cond):\n",
        "    stmt\n",
        "elif(cond):\n",
        "    stmt\n",
        "    .\n",
        "    .\n",
        "    .\n",
        "else: \n",
        "    stmt"
      ]
    },
    {
      "cell_type": "markdown",
      "metadata": {
        "id": "qDbMSLPWuChx",
        "colab_type": "raw"
      },
      "source": [
        "# nested if-else\n",
        "                            if(cond):\n",
        "                                stmt\n",
        "                                if(cond):\n",
        "                                    stmt1\n",
        "                            else:\n",
        "                                if(cond):\n",
        "                                    stmt3\n",
        "                                else:\n",
        "                                    stmt4"
      ]
    },
    {
      "cell_type": "markdown",
      "metadata": {
        "heading_collapsed": true,
        "id": "osB-_kdfuChz",
        "colab_type": "text"
      },
      "source": [
        "### Task2: Write a proram that accept a lowercase/uppercase character from the user and check whether the character is a vowel or consonant."
      ]
    },
    {
      "cell_type": "code",
      "metadata": {
        "id": "i83xxd013UUp",
        "colab_type": "code",
        "outputId": "077da95a-5c79-4995-a4c3-441ba42ddce5",
        "colab": {
          "base_uri": "https://localhost:8080/",
          "height": 51
        }
      },
      "source": [
        "ch = input(\"Enter a character: \")\n",
        "\n",
        "if(ch=='A' or ch=='a' or ch=='E' or ch =='e' or ch=='I'\n",
        " or ch=='i' or ch=='O' or ch=='o' or ch=='U' or ch=='u'):\n",
        "    print(ch, \"is a Vowel\")\n",
        "else:\n",
        "    print(ch, \"is a Consonant\")"
      ],
      "execution_count": 0,
      "outputs": [
        {
          "output_type": "stream",
          "text": [
            "Enter a character: k\n",
            "k is a Consonant\n"
          ],
          "name": "stdout"
        }
      ]
    },
    {
      "cell_type": "code",
      "metadata": {
        "hidden": true,
        "trusted": false,
        "id": "ER1s9HLLuCh1",
        "colab_type": "code",
        "outputId": "c7faef6a-f5e2-462e-d60a-03b144fd0611",
        "colab": {
          "base_uri": "https://localhost:8080/",
          "height": 51
        }
      },
      "source": [
        "# write your code after this line\n",
        "str=input('Enter a letter: ').lower()\n",
        "if(str == 'a' or str == 'e' or str == 'i' or str == 'o' or str == 'u'):\n",
        "  print(str,'is vowel')\n",
        "else:\n",
        "  print(str,'is consonant')\n",
        "\n"
      ],
      "execution_count": 0,
      "outputs": [
        {
          "output_type": "stream",
          "text": [
            "Enter a letter: A\n",
            "a is vowel\n"
          ],
          "name": "stdout"
        }
      ]
    },
    {
      "cell_type": "markdown",
      "metadata": {
        "heading_collapsed": true,
        "id": "K78UkrbLuCh9",
        "colab_type": "text"
      },
      "source": [
        "### Task3: Write a program to check whether given character is a digit or a character in lowercase or uppercase alphabet. Hint: ASCII value of digit is between 48 to 58 and Lowercase characters in the range of 97 to122, uppercase is between 65 and 90)."
      ]
    },
    {
      "cell_type": "code",
      "metadata": {
        "id": "-wp_YAF97rRO",
        "colab_type": "code",
        "colab": {}
      },
      "source": [
        ""
      ],
      "execution_count": 0,
      "outputs": []
    },
    {
      "cell_type": "code",
      "metadata": {
        "hidden": true,
        "trusted": false,
        "id": "ECZGi0hruCh-",
        "colab_type": "code",
        "outputId": "4b7cf2d2-f9f6-4901-b163-901be27ebf2a",
        "colab": {
          "base_uri": "https://localhost:8080/",
          "height": 51
        }
      },
      "source": [
        "# write your code after this line\n",
        "str = input(\"Enter a digit(ACSII) or character: \")\n",
        "str=ord(str)\n",
        "if str>=97 and str<=122:\n",
        "  print(\"lower case letter\")\n",
        "if str>=48 and str<=58:\n",
        "  print(\"is a digit\")\n",
        "if str>=65 and str<=90:\n",
        "  print(\"upper case letter\")\n",
        "\n"
      ],
      "execution_count": 0,
      "outputs": [
        {
          "output_type": "stream",
          "text": [
            "Enter a digit(ACSII) or character: f\n",
            "lower case letter\n"
          ],
          "name": "stdout"
        }
      ]
    },
    {
      "cell_type": "markdown",
      "metadata": {
        "id": "4vS2xTXOuCiC",
        "colab_type": "text"
      },
      "source": [
        "### Repetition or loop\n",
        "- while loop\n",
        "- for loop"
      ]
    },
    {
      "cell_type": "markdown",
      "metadata": {
        "id": "10zY80T_uCiD",
        "colab_type": "text"
      },
      "source": [
        "#### While loop"
      ]
    },
    {
      "cell_type": "markdown",
      "metadata": {
        "id": "aLy4RdvpuCiE",
        "colab_type": "raw"
      },
      "source": [
        "initialization of loop variable\n",
        "while( condition ):\n",
        "    stmt 1\n",
        "    stmt 2\n",
        "    ...\n",
        "    update loop variable"
      ]
    },
    {
      "cell_type": "markdown",
      "metadata": {
        "id": "QHirOSTX8ySG",
        "colab_type": "text"
      },
      "source": [
        ""
      ]
    },
    {
      "cell_type": "markdown",
      "metadata": {
        "id": "ZZJYEIcluCiF",
        "colab_type": "text"
      },
      "source": [
        "##### Task 4: Write a program in Python to print table of any number 'n' provided by user using while loop."
      ]
    },
    {
      "cell_type": "code",
      "metadata": {
        "id": "h-8DDrYE8zO8",
        "colab_type": "code",
        "outputId": "6a0d7b67-19b1-49b8-acfb-f96bd5bd3ad2",
        "colab": {
          "base_uri": "https://localhost:8080/",
          "height": 221
        }
      },
      "source": [
        "num = int(input(\"Enter the number: \"))\n",
        "\n",
        "print(\"Multiplication Table of\", num)\n",
        "for i in range(1, 11):\n",
        "   print(num,\"X\",i,\"=\",num * i)"
      ],
      "execution_count": 0,
      "outputs": [
        {
          "output_type": "stream",
          "text": [
            "Enter the number: 6\n",
            "Multiplication Table of 6\n",
            "6 X 1 = 6\n",
            "6 X 2 = 12\n",
            "6 X 3 = 18\n",
            "6 X 4 = 24\n",
            "6 X 5 = 30\n",
            "6 X 6 = 36\n",
            "6 X 7 = 42\n",
            "6 X 8 = 48\n",
            "6 X 9 = 54\n",
            "6 X 10 = 60\n"
          ],
          "name": "stdout"
        }
      ]
    },
    {
      "cell_type": "code",
      "metadata": {
        "trusted": false,
        "id": "TrTjzgI_uCiH",
        "colab_type": "code",
        "outputId": "42e3927f-7d1f-4546-95ba-1ad17d22b73a",
        "colab": {
          "base_uri": "https://localhost:8080/",
          "height": 374
        }
      },
      "source": [
        "# write your code after this line\n",
        "num=int(input(\"enter a number\"))\n",
        "i=1\n",
        "while i <= 10:\n",
        "  product = num*i\n",
        "  print(num, \" * \", i, \" = \", product, \"\\n\")\n",
        "  i = i + 1\n",
        "\n",
        "\n"
      ],
      "execution_count": 0,
      "outputs": [
        {
          "output_type": "stream",
          "text": [
            "enter a number6\n",
            "6  *  1  =  6 \n",
            "\n",
            "6  *  2  =  12 \n",
            "\n",
            "6  *  3  =  18 \n",
            "\n",
            "6  *  4  =  24 \n",
            "\n",
            "6  *  5  =  30 \n",
            "\n",
            "6  *  6  =  36 \n",
            "\n",
            "6  *  7  =  42 \n",
            "\n",
            "6  *  8  =  48 \n",
            "\n",
            "6  *  9  =  54 \n",
            "\n",
            "6  *  10  =  60 \n",
            "\n"
          ],
          "name": "stdout"
        }
      ]
    },
    {
      "cell_type": "code",
      "metadata": {
        "id": "eX3FACE1yh7t",
        "colab_type": "code",
        "colab": {}
      },
      "source": [
        "\n"
      ],
      "execution_count": 0,
      "outputs": []
    },
    {
      "cell_type": "markdown",
      "metadata": {
        "id": "ae_w6RcmuCiM",
        "colab_type": "text"
      },
      "source": [
        "##### Task 5: Write a program in Python to evaluate the following series using while loop:\n",
        "    \n",
        "    1! + 2! + 3! + 4! ...+ n!\n",
        "hint: use math.factorial(n) function to calculate factorial of number n."
      ]
    },
    {
      "cell_type": "code",
      "metadata": {
        "id": "H-elUTwK0EDf",
        "colab_type": "code",
        "outputId": "10e0f25f-1455-4077-ef50-7b209075aab5",
        "colab": {
          "base_uri": "https://localhost:8080/",
          "height": 51
        }
      },
      "source": [
        "import math\n",
        "num=int(input(\"enter any number\"))\n",
        "sum=0\n",
        "while(num):\n",
        "  sum+=math.factorial(num)\n",
        "  num-=1\n",
        "print(\"the sum is\",sum)\n",
        "\n"
      ],
      "execution_count": 0,
      "outputs": [
        {
          "output_type": "stream",
          "text": [
            "enter any number6\n",
            "the sum is 873\n"
          ],
          "name": "stdout"
        }
      ]
    },
    {
      "cell_type": "markdown",
      "metadata": {
        "id": "eeXNvxy8uCiU",
        "colab_type": "text"
      },
      "source": [
        "##### Task 6: Write a program in Python to enter the numbers till the user wants and at the end it should display the maximum number entered using while loop."
      ]
    },
    {
      "cell_type": "code",
      "metadata": {
        "trusted": false,
        "id": "Mwecmh1ZuCiV",
        "colab_type": "code",
        "colab": {}
      },
      "source": [
        "str='Y'\n",
        "i=[]\n",
        "n=0\n",
        "i[n]=int(input(\"Enter a number\"))\n",
        "str=input(\"Do you want to enter more numbers??(Y/N):- \")\n",
        "n=n+1\n",
        "while(str=='Y'):\n",
        "   print(max(i))"
      ],
      "execution_count": 0,
      "outputs": []
    },
    {
      "cell_type": "code",
      "metadata": {
        "id": "Q1Yms9BN_-Rg",
        "colab_type": "code",
        "colab": {}
      },
      "source": [
        ""
      ],
      "execution_count": 0,
      "outputs": []
    },
    {
      "cell_type": "markdown",
      "metadata": {
        "id": "1NEdGg9SuCiZ",
        "colab_type": "text"
      },
      "source": [
        "### for loop"
      ]
    },
    {
      "cell_type": "markdown",
      "metadata": {
        "id": "Ui3_CBMguCia",
        "colab_type": "raw"
      },
      "source": [
        "for iterable_var_name in range(terminating_value):\n",
        "    stmt 1\n",
        "    stmt 2\n",
        "    ...\n",
        "    \n",
        " for iterable_var_name in range(initial_value,terminating_value):\n",
        "    stmt 1\n",
        "    stmt 2\n",
        "    ...\n",
        "    \n",
        " for iterable_var_name in range(initial_value,terminating_value,updation):\n",
        "    stmt 1\n",
        "    stmt 2\n",
        "    ..."
      ]
    },
    {
      "cell_type": "code",
      "metadata": {
        "trusted": false,
        "id": "gKDSJNtVuCib",
        "colab_type": "code",
        "outputId": "c7022614-ac09-4b08-d0a8-7b22f1ca07f4",
        "colab": {
          "base_uri": "https://localhost:8080/",
          "height": 51
        }
      },
      "source": [
        "# factorial\n",
        "n=int(input('Enter a number '))\n",
        "fact=1\n",
        "for i in range(n,1,-1):\n",
        "    fact=fact*i\n",
        "print(n,'! =',fact)"
      ],
      "execution_count": 0,
      "outputs": [
        {
          "output_type": "stream",
          "text": [
            "Enter a number 5\n",
            "5 ! = 120\n"
          ],
          "name": "stdout"
        }
      ]
    },
    {
      "cell_type": "markdown",
      "metadata": {
        "id": "tPc22JJGuCif",
        "colab_type": "text"
      },
      "source": [
        "##### Task 7:Write a program in Python to print all numbers from 0 to 9 except 3 and 6 using a for loop. \n"
      ]
    },
    {
      "cell_type": "code",
      "metadata": {
        "trusted": false,
        "id": "y1ikCkQvuCig",
        "colab_type": "code",
        "outputId": "68bf015c-fd0e-42b7-d9dd-c77157ee75a2",
        "colab": {
          "base_uri": "https://localhost:8080/",
          "height": 153
        }
      },
      "source": [
        "for i in range(10):\n",
        "  if(i==3 or i==6):\n",
        "    continue;\n",
        "  else:\n",
        "    print(\"number :\",i)"
      ],
      "execution_count": 0,
      "outputs": [
        {
          "output_type": "stream",
          "text": [
            "number : 0\n",
            "number : 1\n",
            "number : 2\n",
            "number : 4\n",
            "number : 5\n",
            "number : 7\n",
            "number : 8\n",
            "number : 9\n"
          ],
          "name": "stdout"
        }
      ]
    },
    {
      "cell_type": "markdown",
      "metadata": {
        "id": "e1v7v-l6uCik",
        "colab_type": "text"
      },
      "source": [
        "#### 2 Write a program in Python to get 10 numbers from user using a for loop. The program should print the count of positive numbers, negative numbers and zeroes entered by the user."
      ]
    },
    {
      "cell_type": "code",
      "metadata": {
        "trusted": false,
        "id": "ivTl5evQuCiq",
        "colab_type": "code",
        "outputId": "537611d4-7eb6-473f-bf25-0968ae9364ee",
        "colab": {
          "base_uri": "https://localhost:8080/",
          "height": 238
        }
      },
      "source": [
        "count1=0\n",
        "count2=0\n",
        "count3=0\n",
        "for i in range (10):\n",
        "  y=int(input(\"enter the number\"))\n",
        "  if(y>0):\n",
        "    count1+=1\n",
        "  elif(y<0):\n",
        "    count2+=1\n",
        "  else:\n",
        "    count3+=1\n",
        "print(\"positive :{}\".format(count1))\n",
        "print(\"negative :{}\".format(count2))\n",
        "print(\"zero :{}\".format(count3))"
      ],
      "execution_count": 0,
      "outputs": [
        {
          "output_type": "stream",
          "text": [
            "enter the number5\n",
            "enter the number4\n",
            "enter the number7\n",
            "enter the number8\n",
            "enter the number2\n",
            "enter the number6\n",
            "enter the number8\n",
            "enter the number14\n",
            "enter the number5\n",
            "enter the number15\n",
            "positive :10\n",
            "negative :0\n",
            "zero :0\n"
          ],
          "name": "stdout"
        }
      ]
    }
  ]
}